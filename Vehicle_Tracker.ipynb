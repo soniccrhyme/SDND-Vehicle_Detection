{
 "cells": [
  {
   "cell_type": "code",
   "execution_count": 1,
   "metadata": {},
   "outputs": [
    {
     "name": "stderr",
     "output_type": "stream",
     "text": [
      "/home/ucalegon/pythoconda/lib/python3.6/site-packages/sklearn/cross_validation.py:44: DeprecationWarning: This module was deprecated in version 0.18 in favor of the model_selection module into which all the refactored classes and functions are moved. Also note that the interface of the new CV iterators are different from that of this module. This module will be removed in 0.20.\n",
      "  \"This module will be removed in 0.20.\", DeprecationWarning)\n"
     ]
    }
   ],
   "source": [
    "#!/usr/bin/env python -W ignore::DeprecationWarning\n",
    "\n",
    "import glob, pickle, os, time\n",
    "from tqdm import tqdm\n",
    "import numpy as np\n",
    "import pandas as pd\n",
    "import cv2\n",
    "\n",
    "import matplotlib.pyplot as plt\n",
    "import matplotlib.image as mpimg\n",
    "%matplotlib inline\n",
    "\n",
    "from helper_functions import *\n",
    "from skimage.feature import hog\n",
    "from skimage.util import img_as_ubyte, img_as_float\n",
    "from skimage.color import rgb2hsv, rgb2luv, rgb2ycbcr\n",
    "from skimage.exposure import rescale_intensity, equalize_adapthist\n",
    "from skimage.transform import resize\n",
    "from sklearn.preprocessing import StandardScaler\n",
    "from sklearn.model_selection import train_test_split\n",
    "from sklearn.metrics import accuracy_score, f1_score, classification_report\n",
    "from scipy.ndimage.measurements import label\n",
    "\n",
    "#from sklearn.svm import SVC\n",
    "from xgboost import XGBClassifier\n",
    "\n",
    "# Import everything needed to edit/save/watch video clips\n",
    "import imageio\n",
    "imageio.plugins.ffmpeg.download()\n",
    "from moviepy.editor import VideoFileClip\n",
    "from IPython.display import HTML\n",
    "\n",
    "import warnings\n",
    "warnings.filterwarnings(\"ignore\")"
   ]
  },
  {
   "cell_type": "code",
   "execution_count": 2,
   "metadata": {
    "collapsed": true
   },
   "outputs": [],
   "source": [
    "### PARAMETERS ###\n",
    "processed_images = False\n",
    "# Color Map Choices: RGB, HSV, LUV, YCbCr\n",
    "color_map = 'YCbCr'\n",
    "clf_type = 'xgb'"
   ]
  },
  {
   "cell_type": "code",
   "execution_count": 3,
   "metadata": {
    "collapsed": true
   },
   "outputs": [],
   "source": [
    "def rgb_convert(img, color_map):\n",
    "    \n",
    "    \n",
    "    if color_map == 'HSV':\n",
    "        img_convert = rgb2hsv(img)\n",
    "    elif color_map == 'LUV':\n",
    "        img_convert = rgb2luv(img)\n",
    "    elif color_map == 'YCbCr':\n",
    "        img_convert = rgb2ycbcr(img)\n",
    "    \n",
    "    return img_convert\n",
    "\n",
    "def dump_classifier(clf, clf_name):\n",
    "    '''\n",
    "    Pickle classifier using clf_name\n",
    "    '''\n",
    "    if '.pickle' in clf_name:\n",
    "        pass\n",
    "    else:\n",
    "        clf_name += '.pickle'\n",
    "    with open('clfs/'+clf_name, 'wb') as f:\n",
    "        pickle.dump(clf, f)\n",
    "    f.close()\n",
    "\n",
    "    print('Classifier dumped to clfs/{}'.format(clf_name))\n",
    "\n",
    "    return\n",
    "\n",
    "\n",
    "def load_clf(clf_name):\n",
    "    with open('clfs/'+clf_name, 'rb') as f:\n",
    "        clf = pickle.load(f)\n",
    "    f.close()\n",
    "    \n",
    "    return clf"
   ]
  },
  {
   "cell_type": "code",
   "execution_count": 4,
   "metadata": {
    "collapsed": true
   },
   "outputs": [],
   "source": [
    "def load_images_labels(processed_images = False):\n",
    "    if not processed_images:\n",
    "        with open('clf_images/all_vehicles_{}.pickle'.format(color_map), 'rb') as f:\n",
    "            all_vehicles = pickle.load(f)\n",
    "        f.close()\n",
    "    else:\n",
    "        with open('clf_images/all_vehicles_{}_processed.pickle'.format(color_map), 'rb') as f:\n",
    "            all_vehicles = pickle.load(f)\n",
    "        f.close()\n",
    "\n",
    "    with open('clf_images/all_vehicles_labels.pickle', 'rb') as f:\n",
    "        all_vehicles_labels = pickle.load(f)\n",
    "    f.close()\n",
    "\n",
    "    return all_vehicles, all_vehicles_labels"
   ]
  },
  {
   "cell_type": "code",
   "execution_count": 5,
   "metadata": {
    "collapsed": true
   },
   "outputs": [],
   "source": [
    "def extract_features(imgs, spatial_size=(32, 32), hist_bins=32, hist_range=(0, 256), orient=12, pix_per_cell=8, cell_per_block=2, hog_channel='ALL'):\n",
    "    # Create a list to append feature vectors to\n",
    "    features = []\n",
    "    # Iterate through the list of images\n",
    "    for image in tqdm(imgs):\n",
    "        feature_image = np.copy(image)\n",
    "\n",
    "        # Call get_hog_features() with vis=False, feature_vec=True\n",
    "        if hog_channel == 'ALL':\n",
    "            hog_features = []\n",
    "            for channel in range(feature_image.shape[2]):\n",
    "                hog_features.append(get_hog_features(feature_image[:,:,channel],\n",
    "                                    orient, pix_per_cell, cell_per_block,\n",
    "                                    vis=False, feature_vec=True))\n",
    "            hog_features = np.ravel(hog_features)\n",
    "        else:\n",
    "            hog_features = get_hog_features(feature_image[:,:,hog_channel], orient,\n",
    "                        pix_per_cell, cell_per_block, vis=False, feature_vec=True)\n",
    "        # Apply bin_spatial() to get spatial color features\n",
    "        spatial_features = bin_spatial(feature_image, size=spatial_size)\n",
    "        # Apply color_hist() also with a color space option now\n",
    "        hist_features = color_hist(feature_image, nbins=hist_bins) #, bins_range=hist_range\n",
    "        # Append the new feature vector to the features list\n",
    "        features.append(np.concatenate((spatial_features, hist_features, hog_features)))\n",
    "    # Return list of feature vectors\n",
    "\n",
    "    feature_names = ['f_{}'.format(x) for x in range(len(features[0]))]\n",
    "    features_pd = pd.DataFrame(features, columns = feature_names)\n",
    "\n",
    "\n",
    "\n",
    "    return features_pd"
   ]
  },
  {
   "cell_type": "code",
   "execution_count": 6,
   "metadata": {
    "collapsed": true
   },
   "outputs": [],
   "source": [
    "def train_clf(features, labels, clf_type = 'xgb'):\n",
    "\n",
    "    X_train, X_test, y_train, y_test = train_test_split(features, labels, test_size = 0.2, random_state = 42)\n",
    "\n",
    "    scaler = StandardScaler().fit(X_train)\n",
    "    scaler_name = 'scaler_{}.pickle'.format(color_map)\n",
    "    dump_classifier(scaler, scaler_name)\n",
    "    X_train_scaled = scaler.transform(X_train)\n",
    "    X_test_scaled = scaler.transform(X_test)\n",
    "\n",
    "    if clf_type == 'xgb':\n",
    "\n",
    "        clf = XGBClassifier()\n",
    "\n",
    "    elif clf_type == 'svc':\n",
    "\n",
    "        params = {\n",
    "                'kernel': ('linear', 'poly')\n",
    "                }\n",
    "\n",
    "        svc = SVC()\n",
    "        clf = GridSearchCV(svc, param_grid = params)\n",
    "\n",
    "    t_0 = time.time()\n",
    "    print('training...')\n",
    "    clf.fit(X_train_scaled, y_train)\n",
    "    t_1 = time.time()\n",
    "    print('{} clf fit in {:.2f} s'.format(clf_type, t_1-t_0))\n",
    "\n",
    "    y_test_hat = clf.predict(X_test_scaled)\n",
    "\n",
    "    accuracy = accuracy_score(y_test, y_test_hat)\n",
    "    f1 = f1_score(y_test, y_test_hat)\n",
    "    clf_report = classification_report(y_test, y_test_hat)\n",
    "\n",
    "    print('Accuracy = {}'.format(accuracy))\n",
    "    print('f1 Score = {}'.format(f1))\n",
    "    print('\\n')\n",
    "    print(clf_report)\n",
    "\n",
    "    return clf\n"
   ]
  },
  {
   "cell_type": "code",
   "execution_count": 7,
   "metadata": {
    "collapsed": true
   },
   "outputs": [],
   "source": [
    "def train_clf_pipeline():\n",
    "    images, labels = load_images_labels(processed_images = processed_images)\n",
    "\n",
    "    if os.path.isfile('clf_images/all_vehicles_{}_features.pickle'.format(color_map)):\n",
    "        features_pd = pd.read_pickle('clf_images/all_vehicles_{}_features.pickle'.format(color_map))\n",
    "        print('features loaded from pickle')\n",
    "    else:\n",
    "        features_pd = extract_features(images)\n",
    "        features_pd.to_pickle('clf_images/all_vehicles_{}_features.pickle'.format(color_map))\n",
    "        print('features dumped to all_vehicles_{}_features.pickle'.format(color_map))\n",
    "\n",
    "\n",
    "    #print(features_pd.shape)\n",
    "\n",
    "\n",
    "\n",
    "    clf = train_clf(features_pd, labels, clf_type = clf_type)\n",
    "    #clf = train_clf(features, labels, clf_type = clf_type)\n",
    "    clf_name = 'xgb_{0}'.format(color_map,)+'.pickle'\n",
    "    dump_classifier(clf, clf_name)\n",
    "    \n",
    "    return\n"
   ]
  },
  {
   "cell_type": "code",
   "execution_count": 8,
   "metadata": {
    "collapsed": true
   },
   "outputs": [],
   "source": [
    "# Define a single function that can extract features using hog sub-sampling and make predictions\n",
    "def find_windows(img, ystart, ystop, scale, clf, scaler, orient, pix_per_cell, cell_per_block, cells_per_step, spatial_size, hist_bins):\n",
    "    img = img_as_ubyte(img)\n",
    "    \n",
    "    #draw_img = np.copy(img)\n",
    "    windows_hat = []\n",
    "    \n",
    "    img_tosearch = img[ystart:ystop,:,:]\n",
    "    if color_map != 'RGB':\n",
    "        ctrans_tosearch = rgb_convert(img_tosearch, color_map)\n",
    "    if scale != 1:\n",
    "        imshape = ctrans_tosearch.shape\n",
    "        ctrans_tosearch = cv2.resize(ctrans_tosearch, (np.int(imshape[1]/scale), np.int(imshape[0]/scale)))\n",
    "\n",
    "    ch1 = ctrans_tosearch[:,:,0]\n",
    "    ch2 = ctrans_tosearch[:,:,1]\n",
    "    ch3 = ctrans_tosearch[:,:,2]\n",
    "\n",
    "    # Define blocks and steps as above\n",
    "    nxblocks = (ch1.shape[1] // pix_per_cell) - cell_per_block + 1\n",
    "    nyblocks = (ch1.shape[0] // pix_per_cell) - cell_per_block + 1\n",
    "    nfeat_per_block = orient*cell_per_block**2\n",
    "\n",
    "    # 64 was the orginal sampling rate, with 8 cells and 8 pix per cell\n",
    "    window = 64\n",
    "    nblocks_per_window = (window // pix_per_cell) - cell_per_block + 1\n",
    "    #cells_per_step = 2  # Instead of overlap, define how many cells to step\n",
    "    nxsteps = (nxblocks - nblocks_per_window) // cells_per_step\n",
    "    nysteps = (nyblocks - nblocks_per_window) // cells_per_step\n",
    "\n",
    "    # Compute individual channel HOG features for the entire image\n",
    "    hog1 = get_hog_features(ch1, orient, pix_per_cell, cell_per_block, feature_vec=False)\n",
    "    hog2 = get_hog_features(ch2, orient, pix_per_cell, cell_per_block, feature_vec=False)\n",
    "    hog3 = get_hog_features(ch3, orient, pix_per_cell, cell_per_block, feature_vec=False)\n",
    "\n",
    "    for xb in range(nxsteps):\n",
    "        for yb in range(nysteps):\n",
    "            ypos = yb*cells_per_step\n",
    "            xpos = xb*cells_per_step\n",
    "            # Extract HOG for this patch\n",
    "            hog_feat1 = hog1[ypos:ypos+nblocks_per_window, xpos:xpos+nblocks_per_window].ravel()\n",
    "            hog_feat2 = hog2[ypos:ypos+nblocks_per_window, xpos:xpos+nblocks_per_window].ravel()\n",
    "            hog_feat3 = hog3[ypos:ypos+nblocks_per_window, xpos:xpos+nblocks_per_window].ravel()\n",
    "            hog_features = np.hstack((hog_feat1, hog_feat2, hog_feat3))\n",
    "\n",
    "            xleft = xpos*pix_per_cell\n",
    "            ytop = ypos*pix_per_cell\n",
    "            \n",
    "            subimg = cv2.resize(ctrans_tosearch[ytop:ytop+window, xleft:xleft+window], (64,64))\n",
    "\n",
    "            # Get color features\n",
    "            spatial_features = bin_spatial(subimg, size=spatial_size)\n",
    "            hist_features = color_hist(subimg, nbins=hist_bins)\n",
    "\n",
    "            # Scale features and make a prediction\n",
    "            test_features = scaler.transform(np.hstack((spatial_features, hist_features, hog_features)).reshape(1, -1))\n",
    "            #print(len(test_features[0]))\n",
    "            #feature_names = ['f_{}'.format(int(x)) for x in np.arange(len(test_features[0]))]\n",
    "            #test_features_pd = pd.DataFrame(test_features, columns = feature_names)\n",
    "            test_prediction = clf.predict(test_features)\n",
    "\n",
    "            if test_prediction[0] == 1:\n",
    "                xbox_left = np.int(xleft*scale)\n",
    "                ytop_draw = np.int(ytop*scale)\n",
    "                win_draw = np.int(window*scale)\n",
    "                \n",
    "                window_i = ((xbox_left, ytop_draw+ystart), (xbox_left+win_draw, ytop_draw+win_draw+ystart))\n",
    "                windows_hat.append(window_i)\n",
    "                #cv2.rectangle(draw_img,(xbox_left, ytop_draw+ystart),(xbox_left+win_draw,ytop_draw+win_draw+ystart),(0,0,255),6)\n",
    "\n",
    "    return windows_hat\n"
   ]
  },
  {
   "cell_type": "code",
   "execution_count": 9,
   "metadata": {
    "collapsed": true
   },
   "outputs": [],
   "source": [
    "# Here is your draw_boxes function from the previous exercise\n",
    "def draw_boxes(img, bboxes, color=(0, 0, 255), thick=4):\n",
    "    # Make a copy of the image\n",
    "    imcopy = np.copy(img)\n",
    "    # Iterate through the bounding boxes\n",
    "    for bbox in bboxes:\n",
    "        # Draw a rectangle given bbox coordinates\n",
    "        cv2.rectangle(imcopy, bbox[0], bbox[1], color, thick)\n",
    "    # Return the image copy with boxes drawn\n",
    "    return imcopy\n",
    "    \n",
    "\n",
    "def add_heat(heatmap, bbox_list):\n",
    "    # Iterate through list of bboxes\n",
    "    for box in bbox_list:\n",
    "        # Add += 1 for all pixels inside each bbox\n",
    "        # Assuming each \"box\" takes the form ((x1, y1), (x2, y2))\n",
    "        heatmap[box[0][1]:box[1][1], box[0][0]:box[1][0]] += 1\n",
    "\n",
    "    # Return updated heatmap\n",
    "    return heatmap\n",
    "\n",
    "def apply_threshold(heatmap, threshold):\n",
    "    # Zero out pixels below the threshold\n",
    "    heatmap[heatmap < threshold] = 0\n",
    "    # Return thresholded map\n",
    "    return heatmap\n",
    "\n",
    "def expand_labeled_bboxes(labels, windows_hat):\n",
    "    \n",
    "    for car_number in range(1, labels[1]+1):\n",
    "        nonzero = (labels[0] == car_number).nonzero()\n",
    "        nonzeroy = np.array(nonzero[0])\n",
    "        nonzerox = np.array(nonzero[1])\n",
    "    \n",
    "    return nonzero\n",
    "\n",
    "def draw_labeled_bboxes(img, labels):\n",
    "    # Iterate through all detected cars\n",
    "    for car_number in range(1, labels[1]+1):\n",
    "        # Find pixels with each car_number label value\n",
    "        nonzero = (labels[0] == car_number).nonzero()\n",
    "        # Identify x and y values of those pixels\n",
    "        nonzeroy = np.array(nonzero[0])\n",
    "        nonzerox = np.array(nonzero[1])\n",
    "        # Define a bounding box based on min/max x and y\n",
    "        bbox = ((np.min(nonzerox), np.min(nonzeroy)), (np.max(nonzerox), np.max(nonzeroy)))\n",
    "        # Draw the box on the image\n",
    "        cv2.rectangle(img, bbox[0], bbox[1], (0,0,255), 4)\n",
    "    # Return the image\n",
    "    return img\n"
   ]
  },
  {
   "cell_type": "code",
   "execution_count": 10,
   "metadata": {
    "collapsed": true
   },
   "outputs": [],
   "source": [
    "### PARAMETERS ###\n",
    "\n",
    "# scales_dict format :: scale: (ystart, ystop, cells_per_step)\n",
    "scales_dict = {\n",
    "    1: (400, 464, 1),\n",
    "    1.5: (400, 528, 2),\n",
    "    2: (400, 656, 2)\n",
    "}\n",
    "\n",
    "\n",
    "spatial_size = (32, 32)\n",
    "hist_bins=32\n",
    "hist_range=(0, 256)\n",
    "orient=12\n",
    "pix_per_cell=8\n",
    "cell_per_block=2\n",
    "\n",
    "heat_thresh = 2\n",
    "\n",
    "scaler = load_clf('scaler_{}.pickle'.format(color_map))\n",
    "clf = load_clf('{}_{}.pickle'.format(clf_type, color_map))"
   ]
  },
  {
   "cell_type": "code",
   "execution_count": 11,
   "metadata": {
    "collapsed": true
   },
   "outputs": [],
   "source": [
    "def vehicle_tracker_pipeline(frame):\n",
    "    \n",
    "    windows_hat = []\n",
    "    for scale in scales_dict.keys():\n",
    "        ystart = scales_dict[scale][0]\n",
    "        ystop = scales_dict[scale][1]\n",
    "        cells_per_step = scales_dict[scale][2]\n",
    "        windows_hat_i = find_windows(frame, ystart, ystop, scale, clf, scaler, orient, pix_per_cell, cell_per_block, cells_per_step, spatial_size, hist_bins)\n",
    "        for i in windows_hat_i:\n",
    "            windows_hat.append(i)\n",
    "            \n",
    "    heatmap = np.zeros(frame.shape[:2])\n",
    "    heatmap = add_heat(heatmap, windows_hat)\n",
    "    \n",
    "    heatmap_thresh = apply_threshold(heatmap, threshold = heat_thresh)\n",
    "\n",
    "    labels = label(heatmap_thresh)\n",
    "    \n",
    "    out_img = draw_labeled_bboxes(np.copy(frame), labels)\n",
    "    \n",
    "    return out_img\n",
    "\n",
    "    "
   ]
  },
  {
   "cell_type": "code",
   "execution_count": 12,
   "metadata": {},
   "outputs": [],
   "source": [
    "output_name = 'result.mp4'\n",
    "suboutput_name = 'subclip_result.mp4'\n",
    "\n",
    "clip = VideoFileClip(\"project_video.mp4\")\n",
    "subclip = clip.subclip(36, 41)"
   ]
  },
  {
   "cell_type": "code",
   "execution_count": 13,
   "metadata": {},
   "outputs": [
    {
     "name": "stdout",
     "output_type": "stream",
     "text": [
      "[MoviePy] >>>> Building video subclip_result.mp4\n",
      "[MoviePy] Writing video subclip_result.mp4\n"
     ]
    },
    {
     "name": "stderr",
     "output_type": "stream",
     "text": [
      " 99%|█████████▉| 125/126 [07:07<00:03,  3.42s/it]\n"
     ]
    },
    {
     "name": "stdout",
     "output_type": "stream",
     "text": [
      "[MoviePy] Done.\n",
      "[MoviePy] >>>> Video ready: subclip_result.mp4 \n",
      "\n",
      "CPU times: user 25min 9s, sys: 38.3 s, total: 25min 48s\n",
      "Wall time: 7min 9s\n"
     ]
    }
   ],
   "source": [
    "suboutput = subclip.fl_image(vehicle_tracker_pipeline)\n",
    "%time suboutput.write_videofile(suboutput_name, audio=False)"
   ]
  },
  {
   "cell_type": "code",
   "execution_count": null,
   "metadata": {
    "collapsed": true
   },
   "outputs": [],
   "source": [
    "output = clip.fl_image(vehicle_tracker_pipeline) \n",
    "%time output.write_videofile(output_name, audio=False)"
   ]
  },
  {
   "cell_type": "code",
   "execution_count": null,
   "metadata": {
    "collapsed": true
   },
   "outputs": [],
   "source": []
  },
  {
   "cell_type": "code",
   "execution_count": null,
   "metadata": {
    "collapsed": true
   },
   "outputs": [],
   "source": []
  }
 ],
 "metadata": {
  "kernelspec": {
   "display_name": "Python 3",
   "language": "python",
   "name": "python3"
  },
  "language_info": {
   "codemirror_mode": {
    "name": "ipython",
    "version": 3
   },
   "file_extension": ".py",
   "mimetype": "text/x-python",
   "name": "python",
   "nbconvert_exporter": "python",
   "pygments_lexer": "ipython3",
   "version": "3.6.1"
  }
 },
 "nbformat": 4,
 "nbformat_minor": 2
}
